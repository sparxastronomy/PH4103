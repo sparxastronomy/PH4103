{
 "cells": [
  {
   "cell_type": "markdown",
   "metadata": {},
   "source": [
    "6th row(4th last data) is modified to have the height lower by 1 mm"
   ]
  },
  {
   "cell_type": "code",
   "execution_count": 1,
   "metadata": {},
   "outputs": [],
   "source": [
    "import numpy as np\n",
    "import matplotlib.pyplot as plt\n",
    "import pandas as pd"
   ]
  },
  {
   "cell_type": "code",
   "execution_count": 2,
   "metadata": {},
   "outputs": [],
   "source": [
    "# change font to times new roman\n",
    "plt.rcParams['font.family'] = 'Times New Roman'\n",
    "# increase tick label size\n",
    "plt.rcParams['xtick.labelsize'] = 12"
   ]
  },
  {
   "cell_type": "code",
   "execution_count": 3,
   "metadata": {},
   "outputs": [
    {
     "data": {
      "text/html": [
       "<div>\n",
       "<style scoped>\n",
       "    .dataframe tbody tr th:only-of-type {\n",
       "        vertical-align: middle;\n",
       "    }\n",
       "\n",
       "    .dataframe tbody tr th {\n",
       "        vertical-align: top;\n",
       "    }\n",
       "\n",
       "    .dataframe thead th {\n",
       "        text-align: right;\n",
       "    }\n",
       "</style>\n",
       "<table border=\"1\" class=\"dataframe\">\n",
       "  <thead>\n",
       "    <tr style=\"text-align: right;\">\n",
       "      <th></th>\n",
       "      <th>Current</th>\n",
       "      <th>B</th>\n",
       "      <th>B2</th>\n",
       "      <th>MSR</th>\n",
       "      <th>CSR</th>\n",
       "      <th>Height</th>\n",
       "      <th>Rise</th>\n",
       "    </tr>\n",
       "  </thead>\n",
       "  <tbody>\n",
       "    <tr>\n",
       "      <th>0</th>\n",
       "      <td>0.02</td>\n",
       "      <td>0.040</td>\n",
       "      <td>0.001600</td>\n",
       "      <td>6.0</td>\n",
       "      <td>4</td>\n",
       "      <td>60.04</td>\n",
       "      <td>0.00</td>\n",
       "    </tr>\n",
       "    <tr>\n",
       "      <th>1</th>\n",
       "      <td>0.50</td>\n",
       "      <td>0.828</td>\n",
       "      <td>0.685584</td>\n",
       "      <td>6.0</td>\n",
       "      <td>21</td>\n",
       "      <td>60.21</td>\n",
       "      <td>0.17</td>\n",
       "    </tr>\n",
       "    <tr>\n",
       "      <th>2</th>\n",
       "      <td>1.00</td>\n",
       "      <td>1.693</td>\n",
       "      <td>2.866249</td>\n",
       "      <td>6.0</td>\n",
       "      <td>66</td>\n",
       "      <td>60.66</td>\n",
       "      <td>0.62</td>\n",
       "    </tr>\n",
       "    <tr>\n",
       "      <th>3</th>\n",
       "      <td>1.50</td>\n",
       "      <td>2.620</td>\n",
       "      <td>6.864400</td>\n",
       "      <td>6.1</td>\n",
       "      <td>40</td>\n",
       "      <td>61.40</td>\n",
       "      <td>1.36</td>\n",
       "    </tr>\n",
       "    <tr>\n",
       "      <th>4</th>\n",
       "      <td>2.00</td>\n",
       "      <td>3.540</td>\n",
       "      <td>12.531600</td>\n",
       "      <td>6.2</td>\n",
       "      <td>46</td>\n",
       "      <td>62.46</td>\n",
       "      <td>2.42</td>\n",
       "    </tr>\n",
       "    <tr>\n",
       "      <th>5</th>\n",
       "      <td>2.50</td>\n",
       "      <td>4.460</td>\n",
       "      <td>19.891600</td>\n",
       "      <td>6.4</td>\n",
       "      <td>82</td>\n",
       "      <td>63.82</td>\n",
       "      <td>3.78</td>\n",
       "    </tr>\n",
       "    <tr>\n",
       "      <th>6</th>\n",
       "      <td>3.00</td>\n",
       "      <td>5.360</td>\n",
       "      <td>28.729600</td>\n",
       "      <td>6.5</td>\n",
       "      <td>35</td>\n",
       "      <td>65.35</td>\n",
       "      <td>5.31</td>\n",
       "    </tr>\n",
       "    <tr>\n",
       "      <th>7</th>\n",
       "      <td>3.50</td>\n",
       "      <td>6.230</td>\n",
       "      <td>38.812900</td>\n",
       "      <td>6.7</td>\n",
       "      <td>1</td>\n",
       "      <td>67.01</td>\n",
       "      <td>6.97</td>\n",
       "    </tr>\n",
       "    <tr>\n",
       "      <th>8</th>\n",
       "      <td>4.00</td>\n",
       "      <td>7.070</td>\n",
       "      <td>49.984900</td>\n",
       "      <td>6.8</td>\n",
       "      <td>54</td>\n",
       "      <td>68.54</td>\n",
       "      <td>8.50</td>\n",
       "    </tr>\n",
       "  </tbody>\n",
       "</table>\n",
       "</div>"
      ],
      "text/plain": [
       "   Current      B         B2  MSR  CSR  Height  Rise\n",
       "0     0.02  0.040   0.001600  6.0    4   60.04  0.00\n",
       "1     0.50  0.828   0.685584  6.0   21   60.21  0.17\n",
       "2     1.00  1.693   2.866249  6.0   66   60.66  0.62\n",
       "3     1.50  2.620   6.864400  6.1   40   61.40  1.36\n",
       "4     2.00  3.540  12.531600  6.2   46   62.46  2.42\n",
       "5     2.50  4.460  19.891600  6.4   82   63.82  3.78\n",
       "6     3.00  5.360  28.729600  6.5   35   65.35  5.31\n",
       "7     3.50  6.230  38.812900  6.7    1   67.01  6.97\n",
       "8     4.00  7.070  49.984900  6.8   54   68.54  8.50"
      ]
     },
     "execution_count": 3,
     "metadata": {},
     "output_type": "execute_result"
    }
   ],
   "source": [
    "# load the CSV \n",
    "df = pd.read_csv('Quickies.csv')\n",
    "df.head(10)"
   ]
  },
  {
   "cell_type": "code",
   "execution_count": 4,
   "metadata": {},
   "outputs": [
    {
     "name": "stdout",
     "output_type": "stream",
     "text": [
      "Density of solution = 1.6630 gm/cc\n"
     ]
    }
   ],
   "source": [
    "W1 = 44.7 #gm\n",
    "W2 = 53.9 #gm\n",
    "W3 = 60.0 #gm\n",
    "\n",
    "# print relative density\n",
    "Rho = (W3 - W1)/(W2 - W1)\n",
    "print(\"Density of solution = %2.4f gm/cc\"%(Rho))"
   ]
  },
  {
   "cell_type": "code",
   "execution_count": 5,
   "metadata": {},
   "outputs": [
    {
     "name": "stdout",
     "output_type": "stream",
     "text": [
      "Slope = 1.7882\n",
      "Intercept = -0.0424\n"
     ]
    }
   ],
   "source": [
    "I = df['Current']\n",
    "H = df['B']\n",
    "\n",
    "# fit the data to a line\n",
    "fit = np.polyfit(I,H,1)\n",
    "\n",
    "# print the slope and intercept\n",
    "print(\"Slope = %2.4f\"%(fit[0]))\n",
    "print(\"Intercept = %2.4f\"%(fit[1]))"
   ]
  },
  {
   "cell_type": "code",
   "execution_count": 6,
   "metadata": {},
   "outputs": [
    {
     "data": {
      "image/png": "[encoded data removed]",
      "text/plain": [
       "<Figure size 600x400 with 1 Axes>"
      ]
     },
     "metadata": {
      "needs_background": "light"
     },
     "output_type": "display_data"
    }
   ],
   "source": [
    "I = df['Current']\n",
    "H = df['B']\n",
    "\n",
    "plt.figure(figsize=(6, 4), dpi=100)\n",
    "plt.plot(I, H, 'o-', ms=12, lw=2, alpha=0.7, mfc='orange', label='Data')\n",
    "# plot the fit\n",
    "plt.plot(I,np.polyval(fit, I), 'r-', lw=2, alpha=0.7, label='Fit')\n",
    "\n",
    "plt.legend()\n",
    "\n",
    "plt.grid(alpha=0.5)\n",
    "plt.xlabel('Current (A)', fontsize=16)\n",
    "plt.ylabel('Magnetic Field, H (kG)', fontsize=16)\n",
    "plt.savefig('Quinkies_calibration.jpg', dpi=300, bbox_inches='tight')"
   ]
  },
  {
   "cell_type": "code",
   "execution_count": 7,
   "metadata": {},
   "outputs": [
    {
     "name": "stdout",
     "output_type": "stream",
     "text": [
      "Slope =  0.1726421743987721\n",
      "Intercept =  0.16040500243957734\n",
      "Fitness Score =  0.9972184342139805\n"
     ]
    }
   ],
   "source": [
    "# plot B2 vs Rise\n",
    "B2 = df['B2']\n",
    "h = df['Rise']\n",
    "\n",
    "\n",
    "# fit a linear model to the data\n",
    "from sklearn.linear_model import LinearRegression\n",
    "model = LinearRegression()\n",
    "model.fit(B2.values.reshape(-1, 1), h.values.reshape(-1, 1))\n",
    "print('Slope = ',model.coef_[0][0])\n",
    "print('Intercept = ',model.intercept_[0])\n",
    "print('Fitness Score = ', model.score(B2.values.reshape(-1, 1), h.values.reshape(-1, 1)))"
   ]
  },
  {
   "cell_type": "code",
   "execution_count": 8,
   "metadata": {},
   "outputs": [
    {
     "data": {
      "image/png": "[encoded data removed]",
      "text/plain": [
       "<Figure size 600x600 with 1 Axes>"
      ]
     },
     "metadata": {
      "needs_background": "light"
     },
     "output_type": "display_data"
    }
   ],
   "source": [
    "# plot the data and model\n",
    "\n",
    "plt.figure(figsize=(6, 6), dpi=100)\n",
    "\n",
    "#plot the model\n",
    "x = np.linspace(0, 50, 100)\n",
    "y = model.coef_[0][0] * x + model.intercept_[0]\n",
    "plt.plot(x, y, 'k--', lw=2, alpha=0.9, label='Linear Fit\\nSlope = {:.4f} mm/kG$^2$'.format(model.coef_[0][0]))\n",
    "\n",
    "# plot the data\n",
    "plt.plot(B2, h, 'o', ms=12, lw=2, alpha=0.9, mfc='orange', label='Data')\n",
    "\n",
    "\n",
    "plt.legend(fontsize=12)\n",
    "\n",
    "plt.grid(alpha=0.5)\n",
    "plt.xlabel('H$^2$ (kG$^2$)', fontsize=16)\n",
    "plt.ylabel('Rise of Solution (mm)', fontsize=16)\n",
    "plt.savefig('Rise.jpg', dpi=300, bbox_inches='tight')"
   ]
  },
  {
   "cell_type": "code",
   "execution_count": 9,
   "metadata": {},
   "outputs": [
    {
     "name": "stdout",
     "output_type": "stream",
     "text": [
      "Slope = 0.1726 x 10^(-7) cm/G\n",
      "Magnetic Susceptibility = 562.7384 x 10^(-7)\n",
      "Magnetic Susceptibility/density = 33.8379 x 10^(-6)\n",
      "Magnetic Susceptibility of Salt = 84.8720 x 10^(-6)\n",
      "Magnetic Susceptibility of Salt = 14343.3724 x 10^(-6)\n",
      "Percentage Error = 1.0097 %\n"
     ]
    }
   ],
   "source": [
    "# print slope in required units\n",
    "print('Slope = %2.4f x 10^(-7) cm/G'%model.coef_[0][0])\n",
    "\n",
    "# print magnetic suseptibility in CGS units\n",
    "print('Magnetic Susceptibility = %2.4f x 10^(-7)'%(model.coef_[0][0] *2*Rho * 980) )\n",
    "\n",
    "# print magnetic suseptibility/density in CGS units\n",
    "print('Magnetic Susceptibility/density = %2.4f x 10^(-6)'%(model.coef_[0][0] *2*Rho * 980 / (10*Rho)) )\n",
    "Chi_p_sol = model.coef_[0][0] *2*Rho * 980 / (10*Rho)\n",
    "\n",
    "# print magnetic suseptibility of Salt\n",
    "Chi_water = -0.72*10**(-6) # cm/G\n",
    "m_w = W2 - W1 # gm\n",
    "m_s = W3 - W2 # gm\n",
    "\n",
    "Chi_salt = (Chi_p_sol - (Chi_water * m_w /(m_w + m_s)))*(m_w + m_s)/m_s\n",
    "print('Magnetic Susceptibility of Salt = %2.4f x 10^(-6)'%(Chi_salt))\n",
    "\n",
    "# print magnetic suseptibility' of Salt\n",
    "MM_salt = 169 # g/mol\n",
    "print('Magnetic Susceptibility of Salt = %2.4f x 10^(-6)'%(Chi_salt*MM_salt))\n",
    "Chi_p_salt = Chi_salt*MM_salt\n",
    "\n",
    "Accepted = 14200\n",
    "\n",
    "# print percentage error\n",
    "print('Percentage Error = %2.4f %%'%(( Chi_p_salt - Accepted)/Accepted * 100))\n",
    "\n",
    "\n"
   ]
  },
  {
   "cell_type": "markdown",
   "metadata": {},
   "source": [
    "# Data"
   ]
  },
  {
   "cell_type": "code",
   "execution_count": 10,
   "metadata": {},
   "outputs": [
    {
     "name": "stdout",
     "output_type": "stream",
     "text": [
      "\n",
      "Current\n",
      "0.02,0.5,1.0,1.5,2.0,2.5,3.0,3.5,4.0\n",
      "\n",
      "Magnetic Field\n",
      "0.04,0.828,1.693,2.62,3.54,4.46,5.36,6.23,7.07\n",
      "\n",
      "MSR\n",
      "6.0,6.0,6.0,6.1,6.2,6.4,6.5,6.7,6.8\n",
      "\n",
      "CSR\n",
      "4,21,66,40,46,82,35,1,54\n"
     ]
    }
   ],
   "source": [
    "# print Data\n",
    "\n",
    "print(\"\\nCurrent\")\n",
    "#print the values of current separated by commas\n",
    "print(','.join([str(i) for i in df['Current'].values]))\n",
    "\n",
    "print(\"\\nMagnetic Field\")\n",
    "#print the values of magnetic field separated by commas\n",
    "print(','.join([str(i) for i in df['B'].values]))\n",
    "\n",
    "# print MSR\n",
    "print(\"\\nMSR\")\n",
    "#print the values of MSR separated by commas\n",
    "print(','.join([str(i) for i in df['MSR'].values]))\n",
    "\n",
    "# print CSR\n",
    "print(\"\\nCSR\")\n",
    "#print the values of CSR separated by commas\n",
    "print(','.join([str(i) for i in df['CSR'].values]))"
   ]
  }
 ],
 "metadata": {
  "kernelspec": {
   "display_name": "Python 3.8.5 ('base')",
   "language": "python",
   "name": "python3"
  },
  "language_info": {
   "codemirror_mode": {
    "name": "ipython",
    "version": 3
   },
   "file_extension": ".py",
   "mimetype": "text/x-python",
   "name": "python",
   "nbconvert_exporter": "python",
   "pygments_lexer": "ipython3",
   "version": "3.8.5"
  },
  "orig_nbformat": 4,
  "vscode": {
   "interpreter": {
    "hash": "543a6fb42cc5f21688de392d11f33709f57b3c8789b087d2ec82c8910b10e5f8"
   }
  }
 },
 "nbformat": 4,
 "nbformat_minor": 2
}

{
 "cells": [
  {
   "cell_type": "code",
   "execution_count": 14,
   "metadata": {},
   "outputs": [],
   "source": [
    "import matplotlib.pyplot as plt\n",
    "import numpy as np\n",
    "import pandas as pd"
   ]
  },
  {
   "cell_type": "code",
   "execution_count": 15,
   "metadata": {},
   "outputs": [],
   "source": [
    "# change font style to Roman\n",
    "plt.rcParams['font.family'] = 'serif'"
   ]
  },
  {
   "cell_type": "code",
   "execution_count": 16,
   "metadata": {},
   "outputs": [
    {
     "data": {
      "text/html": [
       "<div>\n",
       "<style scoped>\n",
       "    .dataframe tbody tr th:only-of-type {\n",
       "        vertical-align: middle;\n",
       "    }\n",
       "\n",
       "    .dataframe tbody tr th {\n",
       "        vertical-align: top;\n",
       "    }\n",
       "\n",
       "    .dataframe thead th {\n",
       "        text-align: right;\n",
       "    }\n",
       "</style>\n",
       "<table border=\"1\" class=\"dataframe\">\n",
       "  <thead>\n",
       "    <tr style=\"text-align: right;\">\n",
       "      <th></th>\n",
       "      <th>T</th>\n",
       "      <th>I</th>\n",
       "      <th>V</th>\n",
       "      <th>Rho_0</th>\n",
       "      <th>Rho</th>\n",
       "    </tr>\n",
       "  </thead>\n",
       "  <tbody>\n",
       "    <tr>\n",
       "      <th>0</th>\n",
       "      <td>29</td>\n",
       "      <td>4.00</td>\n",
       "      <td>0.34000</td>\n",
       "      <td>106.760000</td>\n",
       "      <td>19.253000</td>\n",
       "    </tr>\n",
       "    <tr>\n",
       "      <th>1</th>\n",
       "      <td>35</td>\n",
       "      <td>3.99</td>\n",
       "      <td>0.33100</td>\n",
       "      <td>104.194486</td>\n",
       "      <td>18.790109</td>\n",
       "    </tr>\n",
       "    <tr>\n",
       "      <th>2</th>\n",
       "      <td>40</td>\n",
       "      <td>3.99</td>\n",
       "      <td>0.31800</td>\n",
       "      <td>100.102256</td>\n",
       "      <td>18.052128</td>\n",
       "    </tr>\n",
       "    <tr>\n",
       "      <th>3</th>\n",
       "      <td>45</td>\n",
       "      <td>3.99</td>\n",
       "      <td>0.30200</td>\n",
       "      <td>95.065664</td>\n",
       "      <td>17.143845</td>\n",
       "    </tr>\n",
       "    <tr>\n",
       "      <th>4</th>\n",
       "      <td>50</td>\n",
       "      <td>3.99</td>\n",
       "      <td>0.27900</td>\n",
       "      <td>87.825564</td>\n",
       "      <td>15.838188</td>\n",
       "    </tr>\n",
       "    <tr>\n",
       "      <th>5</th>\n",
       "      <td>55</td>\n",
       "      <td>3.99</td>\n",
       "      <td>0.25100</td>\n",
       "      <td>79.011529</td>\n",
       "      <td>14.248693</td>\n",
       "    </tr>\n",
       "    <tr>\n",
       "      <th>6</th>\n",
       "      <td>60</td>\n",
       "      <td>3.99</td>\n",
       "      <td>0.22700</td>\n",
       "      <td>71.456642</td>\n",
       "      <td>12.886268</td>\n",
       "    </tr>\n",
       "    <tr>\n",
       "      <th>7</th>\n",
       "      <td>65</td>\n",
       "      <td>3.99</td>\n",
       "      <td>0.20300</td>\n",
       "      <td>63.901754</td>\n",
       "      <td>11.523843</td>\n",
       "    </tr>\n",
       "    <tr>\n",
       "      <th>8</th>\n",
       "      <td>70</td>\n",
       "      <td>3.98</td>\n",
       "      <td>0.17700</td>\n",
       "      <td>55.857286</td>\n",
       "      <td>10.073129</td>\n",
       "    </tr>\n",
       "    <tr>\n",
       "      <th>9</th>\n",
       "      <td>75</td>\n",
       "      <td>3.98</td>\n",
       "      <td>0.15400</td>\n",
       "      <td>48.598995</td>\n",
       "      <td>8.764191</td>\n",
       "    </tr>\n",
       "    <tr>\n",
       "      <th>10</th>\n",
       "      <td>80</td>\n",
       "      <td>3.98</td>\n",
       "      <td>0.13400</td>\n",
       "      <td>42.287437</td>\n",
       "      <td>7.625984</td>\n",
       "    </tr>\n",
       "    <tr>\n",
       "      <th>11</th>\n",
       "      <td>85</td>\n",
       "      <td>3.97</td>\n",
       "      <td>0.11400</td>\n",
       "      <td>36.066499</td>\n",
       "      <td>6.504120</td>\n",
       "    </tr>\n",
       "    <tr>\n",
       "      <th>12</th>\n",
       "      <td>90</td>\n",
       "      <td>3.97</td>\n",
       "      <td>0.10000</td>\n",
       "      <td>31.637280</td>\n",
       "      <td>5.705368</td>\n",
       "    </tr>\n",
       "    <tr>\n",
       "      <th>13</th>\n",
       "      <td>96</td>\n",
       "      <td>3.97</td>\n",
       "      <td>0.08450</td>\n",
       "      <td>26.733501</td>\n",
       "      <td>4.821036</td>\n",
       "    </tr>\n",
       "    <tr>\n",
       "      <th>14</th>\n",
       "      <td>100</td>\n",
       "      <td>3.97</td>\n",
       "      <td>0.07660</td>\n",
       "      <td>24.234156</td>\n",
       "      <td>4.370312</td>\n",
       "    </tr>\n",
       "    <tr>\n",
       "      <th>15</th>\n",
       "      <td>105</td>\n",
       "      <td>3.97</td>\n",
       "      <td>0.06610</td>\n",
       "      <td>20.912242</td>\n",
       "      <td>3.771248</td>\n",
       "    </tr>\n",
       "    <tr>\n",
       "      <th>16</th>\n",
       "      <td>110</td>\n",
       "      <td>3.97</td>\n",
       "      <td>0.05850</td>\n",
       "      <td>18.507809</td>\n",
       "      <td>3.337640</td>\n",
       "    </tr>\n",
       "    <tr>\n",
       "      <th>17</th>\n",
       "      <td>115</td>\n",
       "      <td>3.97</td>\n",
       "      <td>0.05060</td>\n",
       "      <td>16.008463</td>\n",
       "      <td>2.886916</td>\n",
       "    </tr>\n",
       "    <tr>\n",
       "      <th>18</th>\n",
       "      <td>120</td>\n",
       "      <td>3.97</td>\n",
       "      <td>0.04470</td>\n",
       "      <td>14.141864</td>\n",
       "      <td>2.550300</td>\n",
       "    </tr>\n",
       "    <tr>\n",
       "      <th>19</th>\n",
       "      <td>125</td>\n",
       "      <td>3.97</td>\n",
       "      <td>0.03990</td>\n",
       "      <td>12.623275</td>\n",
       "      <td>2.276442</td>\n",
       "    </tr>\n",
       "    <tr>\n",
       "      <th>20</th>\n",
       "      <td>130</td>\n",
       "      <td>3.97</td>\n",
       "      <td>0.03590</td>\n",
       "      <td>11.357783</td>\n",
       "      <td>2.048227</td>\n",
       "    </tr>\n",
       "    <tr>\n",
       "      <th>21</th>\n",
       "      <td>135</td>\n",
       "      <td>3.97</td>\n",
       "      <td>0.03210</td>\n",
       "      <td>10.155567</td>\n",
       "      <td>1.831423</td>\n",
       "    </tr>\n",
       "    <tr>\n",
       "      <th>22</th>\n",
       "      <td>140</td>\n",
       "      <td>3.97</td>\n",
       "      <td>0.02860</td>\n",
       "      <td>9.048262</td>\n",
       "      <td>1.631735</td>\n",
       "    </tr>\n",
       "    <tr>\n",
       "      <th>23</th>\n",
       "      <td>145</td>\n",
       "      <td>3.97</td>\n",
       "      <td>0.02540</td>\n",
       "      <td>8.035869</td>\n",
       "      <td>1.449164</td>\n",
       "    </tr>\n",
       "    <tr>\n",
       "      <th>24</th>\n",
       "      <td>150</td>\n",
       "      <td>3.97</td>\n",
       "      <td>0.02270</td>\n",
       "      <td>7.181662</td>\n",
       "      <td>1.295119</td>\n",
       "    </tr>\n",
       "    <tr>\n",
       "      <th>25</th>\n",
       "      <td>155</td>\n",
       "      <td>3.97</td>\n",
       "      <td>0.02030</td>\n",
       "      <td>6.422368</td>\n",
       "      <td>1.158190</td>\n",
       "    </tr>\n",
       "    <tr>\n",
       "      <th>26</th>\n",
       "      <td>160</td>\n",
       "      <td>3.96</td>\n",
       "      <td>0.01814</td>\n",
       "      <td>5.753495</td>\n",
       "      <td>1.037567</td>\n",
       "    </tr>\n",
       "  </tbody>\n",
       "</table>\n",
       "</div>"
      ],
      "text/plain": [
       "      T     I        V       Rho_0        Rho\n",
       "0    29  4.00  0.34000  106.760000  19.253000\n",
       "1    35  3.99  0.33100  104.194486  18.790109\n",
       "2    40  3.99  0.31800  100.102256  18.052128\n",
       "3    45  3.99  0.30200   95.065664  17.143845\n",
       "4    50  3.99  0.27900   87.825564  15.838188\n",
       "5    55  3.99  0.25100   79.011529  14.248693\n",
       "6    60  3.99  0.22700   71.456642  12.886268\n",
       "7    65  3.99  0.20300   63.901754  11.523843\n",
       "8    70  3.98  0.17700   55.857286  10.073129\n",
       "9    75  3.98  0.15400   48.598995   8.764191\n",
       "10   80  3.98  0.13400   42.287437   7.625984\n",
       "11   85  3.97  0.11400   36.066499   6.504120\n",
       "12   90  3.97  0.10000   31.637280   5.705368\n",
       "13   96  3.97  0.08450   26.733501   4.821036\n",
       "14  100  3.97  0.07660   24.234156   4.370312\n",
       "15  105  3.97  0.06610   20.912242   3.771248\n",
       "16  110  3.97  0.05850   18.507809   3.337640\n",
       "17  115  3.97  0.05060   16.008463   2.886916\n",
       "18  120  3.97  0.04470   14.141864   2.550300\n",
       "19  125  3.97  0.03990   12.623275   2.276442\n",
       "20  130  3.97  0.03590   11.357783   2.048227\n",
       "21  135  3.97  0.03210   10.155567   1.831423\n",
       "22  140  3.97  0.02860    9.048262   1.631735\n",
       "23  145  3.97  0.02540    8.035869   1.449164\n",
       "24  150  3.97  0.02270    7.181662   1.295119\n",
       "25  155  3.97  0.02030    6.422368   1.158190\n",
       "26  160  3.96  0.01814    5.753495   1.037567"
      ]
     },
     "execution_count": 16,
     "metadata": {},
     "output_type": "execute_result"
    }
   ],
   "source": [
    "df = pd.read_csv('FourProbe.csv')\n",
    "df"
   ]
  },
  {
   "cell_type": "code",
   "execution_count": 17,
   "metadata": {},
   "outputs": [],
   "source": [
    "T = df['T'].values\n",
    "Rho = df['Rho'].values"
   ]
  },
  {
   "cell_type": "code",
   "execution_count": 6,
   "metadata": {},
   "outputs": [
    {
     "name": "stdout",
     "output_type": "stream",
     "text": [
      "29, 35, 40, 45, 50, 55, 60, 65, 70, 75, 80, 85, 90, 96, 100, 105, 110, 115, 120, 125, 130, 135, 140, 145, 150, 155, 160\n",
      "\n",
      "\n",
      "0.34, 0.331, 0.318, 0.302, 0.279, 0.251, 0.227, 0.203, 0.177, 0.154, 0.134, 0.114, 0.1, 0.0845, 0.0766, 0.0661, 0.0585, 0.0506, 0.0447, 0.0399, 0.0359, 0.0321, 0.0286, 0.0254, 0.0227, 0.0203, 0.01814\n"
     ]
    }
   ],
   "source": [
    "# print elements of T row-wise, separated with comma\n",
    "print(', '.join(map(str, T)))\n",
    "print('\\n')\n",
    "print(', '.join(map(str, df['V'].values)))"
   ]
  },
  {
   "cell_type": "code",
   "execution_count": 18,
   "metadata": {},
   "outputs": [
    {
     "name": "stdout",
     "output_type": "stream",
     "text": [
      "[19.2625306  18.75264009 18.01613157 17.10965954 15.806606   14.22027995\n",
      " 12.8605719  11.50086386 10.02784681  8.72479327  7.59170324  6.4586132\n",
      "  5.66545018  4.7873054   4.33973484  3.74486257  3.31428835  2.86671779\n",
      "  2.53245623  2.26051462  2.03389661  1.81860951  1.62031875  1.43902435\n",
      "  1.28605719  1.15008639  1.02771266]\n"
     ]
    }
   ],
   "source": [
    "# compute rho for fixed I\n",
    "I = 4\n",
    "G = 5.545177444\n",
    "\n",
    "Rho1 = ((df['V'].values)/I)*1000*2*np.pi*0.2/G\n",
    "print(Rho1)"
   ]
  },
  {
   "cell_type": "code",
   "execution_count": 19,
   "metadata": {},
   "outputs": [],
   "source": [
    "# convert celcius to kelvin\n",
    "T = T + 273.15"
   ]
  },
  {
   "cell_type": "code",
   "execution_count": 20,
   "metadata": {},
   "outputs": [
    {
     "name": "stdout",
     "output_type": "stream",
     "text": [
      "dy= -0.45823514383807984\n",
      "dx= -0.00011444959138563098\n",
      "slope= 4003.8163377454466\n",
      "Eg= 0.69 eV\n"
     ]
    }
   ],
   "source": [
    "T_inv = T**(-1)\n",
    "\n",
    "# determine the band gap\n",
    "K = 8.6173324e-5 # boltzmann constant in eV/K\n",
    "\n",
    "\n",
    "# calulate the slope\n",
    "m = (np.log(Rho[-2]) - np.log(Rho[-6]))/(T_inv[-2]-T_inv[-6])\n",
    "print('dy=',np.log(Rho[-2]) - np.log(Rho[-6]))\n",
    "print('dx=',T_inv[-2]-T_inv[-6])\n",
    "print('slope=', m)\n",
    "Eg = K*2*m\n",
    "print('Eg= %2.2f eV'%Eg )"
   ]
  },
  {
   "cell_type": "code",
   "execution_count": 21,
   "metadata": {},
   "outputs": [
    {
     "data": {
      "image/png": "[encoded data removed]",
      "text/plain": [
       "<Figure size 500x700 with 1 Axes>"
      ]
     },
     "metadata": {
      "needs_background": "light"
     },
     "output_type": "display_data"
    }
   ],
   "source": [
    "# array for slope markers\n",
    "t_slope = np.array([T_inv[-2],T_inv[-6]])\n",
    "rho_slope = np.log(np.array([Rho[-2],Rho[-6]]))\n",
    "\n",
    "#plot rho vs T^-1\n",
    "plt.figure(figsize=(5,7), dpi=100)\n",
    "plt.plot((T**-1)*1000, np.log(Rho), marker='o', mfc='none',ms=8,\n",
    "         color='blue',lw=2, label='Data Points')\n",
    "plt.plot(t_slope*1000, rho_slope, ls='none',\n",
    "         marker='o', mfc='red',ms=8, color='red',lw=2, label='Eg= %2.2f eV'%Eg)\n",
    "\n",
    "plt.legend(loc='upper left', fontsize=12)\n",
    "plt.xlabel('$T^{-1}$ x 1000', fontsize=15)\n",
    "plt.ylabel('$\\\\log_{e} \\\\rho$', fontsize=16)\n",
    "plt.grid(alpha=0.6, color='black', linestyle='--')\n",
    "# plt.savefig('rho_vs_Tinv.jpg', dpi=300, bbox_inches='tight')"
   ]
  },
  {
   "cell_type": "markdown",
   "metadata": {},
   "source": [
    "## Data"
   ]
  },
  {
   "cell_type": "code",
   "execution_count": 27,
   "metadata": {},
   "outputs": [
    {
     "name": "stdout",
     "output_type": "stream",
     "text": [
      "29, 35, 40, 45, 50, 55, 60, 65, 70, 75, 80, 85, 90, 96, 100, 105, 110, 115, 120, 125, 130, 135, 140, 145, 150, 155, 160\n",
      "\n",
      "\n",
      "0.34, 0.331, 0.318, 0.302, 0.279, 0.251, 0.227, 0.203, 0.177, 0.154, 0.134, 0.114, 0.1, 0.0845, 0.0766, 0.0661, 0.0585, 0.0506, 0.0447, 0.0399, 0.0359, 0.0321, 0.0286, 0.0254, 0.0227, 0.0203, 0.01814\n"
     ]
    }
   ],
   "source": [
    "# print elements of T row-wise, separated with comma\n",
    "print(', '.join(map(str, T)))\n",
    "print('\\n')\n",
    "print(', '.join(map(str, df['V'].values)))"
   ]
  },
  {
   "cell_type": "code",
   "execution_count": 28,
   "metadata": {},
   "outputs": [],
   "source": [
    "# hadrd coded T and V values\n",
    "T = np.array([29, 35, 40, 45, 50, 55, 60, 65, 70, 75, 80, 85, 90, 96, 100, 105, 110, 115, 120, 125, 130, 135, 140, 145, 150, 155, 160])\n",
    "V = np.array([0.34, 0.331, 0.318, 0.302, 0.279, 0.251, 0.227, 0.203, 0.177, 0.154, 0.134, 0.114, 0.1, 0.0845, 0.0766, 0.0661, 0.0585, 0.0506, 0.0447, 0.0399, 0.0359, 0.0321, 0.0286, 0.0254, 0.0227, 0.0203, 0.01814])"
   ]
  }
 ],
 "metadata": {
  "kernelspec": {
   "display_name": "Python 3.8.5 ('base')",
   "language": "python",
   "name": "python3"
  },
  "language_info": {
   "codemirror_mode": {
    "name": "ipython",
    "version": 3
   },
   "file_extension": ".py",
   "mimetype": "text/x-python",
   "name": "python",
   "nbconvert_exporter": "python",
   "pygments_lexer": "ipython3",
   "version": "3.8.5"
  },
  "orig_nbformat": 4,
  "vscode": {
   "interpreter": {
    "hash": "543a6fb42cc5f21688de392d11f33709f57b3c8789b087d2ec82c8910b10e5f8"
   }
  }
 },
 "nbformat": 4,
 "nbformat_minor": 2
}
